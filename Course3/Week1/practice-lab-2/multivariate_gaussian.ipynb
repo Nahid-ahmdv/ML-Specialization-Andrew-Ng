{
 "cells": [
  {
   "cell_type": "code",
   "execution_count": 9,
   "id": "fb4b8cc8",
   "metadata": {},
   "outputs": [],
   "source": [
    "import numpy as np\n",
    "from utils import *"
   ]
  },
  {
   "cell_type": "code",
   "execution_count": 13,
   "id": "c3c42192",
   "metadata": {},
   "outputs": [],
   "source": [
    "X_train, X_val, y_val = load_data()"
   ]
  },
  {
   "cell_type": "code",
   "execution_count": 14,
   "id": "22afb7f5",
   "metadata": {},
   "outputs": [],
   "source": [
    "def estimate_gaussian(X): \n",
    "    \"\"\"\n",
    "    Calculates mean and variance of all features \n",
    "    in the dataset\n",
    "    \n",
    "    Args:\n",
    "        X (ndarray): (m, n) Data matrix\n",
    "    \n",
    "    Returns:\n",
    "        mu (ndarray): (n,) Mean of all features\n",
    "        var (ndarray): (n,) Variance of all features\n",
    "    \"\"\"\n",
    "\n",
    "    m, n = X.shape\n",
    "    \n",
    "    ### START CODE HERE ### \n",
    "    mu = np.mean(X, axis = 0)\n",
    "    var = np.mean((X - mu) ** 2, axis = 0)\n",
    "    \n",
    "    ### END CODE HERE ### \n",
    "        \n",
    "    return mu, var"
   ]
  },
  {
   "cell_type": "code",
   "execution_count": null,
   "id": "813058de",
   "metadata": {},
   "outputs": [],
   "source": [
    "def visualize_fit(X, mu, var):\n",
    "    \"\"\"\n",
    "    This visualization shows you the \n",
    "    probability density function of the Gaussian distribution. Each example\n",
    "    has a location (x1, x2) that depends on its feature values.\n",
    "    \"\"\"\n",
    "\n",
    "    '''\n",
    "    You have a dataset X with two features (e.g., Latency and Throughput).\n",
    "    You already estimated its Gaussian parameters: mean (mu) and variance (var).\n",
    "    This function plots:\n",
    "        1) The data points.\n",
    "        2) Contour lines showing regions of equal probability density (like a topographic map for probability).\n",
    "    '''\n",
    "    \n",
    "    X1, X2 = np.meshgrid(np.arange(0, 35.5, 0.5), np.arange(0, 35.5, 0.5))\n",
    "    # np.meshgrid makes a 2D grid covering the range 0 to 35 (in steps of 0.5) for both axes.\n",
    "    # Think of this as creating a map of coordinates where you want to evaluate your Gaussian function.\n",
    "    # X1 and X2 are 2D arrays representing all possible (x₁, x₂) positions.\n",
    "    Z = multivariate_gaussian(np.stack([X1.ravel(), X2.ravel()], axis=1), mu, var)\n",
    "    '''\n",
    "    Step 1 — What we have\n",
    "    From the earlier step:\n",
    "        X1, X2 = np.meshgrid(np.arange(0, 35.5, 0.5),\n",
    "                            np.arange(0, 35.5, 0.5))\n",
    "    X1 and X2 are 2D arrays of the same shape.\n",
    "    Example with a tiny mesh:\n",
    "        X1 =\n",
    "        [[0, 1, 2],\n",
    "        [0, 1, 2]]\n",
    "\n",
    "        X2 =\n",
    "        [[10, 10, 10],\n",
    "        [11, 11, 11]]\n",
    "    Each (X1[i,j], X2[i,j]) is one coordinate.\n",
    "\n",
    "    Step 2 — Flattening\n",
    "        X1.ravel()\n",
    "    Turns X1 into a 1D array: [0, 1, 2, 0, 1, 2]\n",
    "        X2.ravel()\n",
    "    Also a 1D array: 10, 10, 10, 11, 11, 11]\n",
    "    Step 3 — Stacking\n",
    "        np.stack([X1.ravel(), X2.ravel()], axis=1)\n",
    "    np.stack([...], axis=1) puts them side by side as columns.\n",
    "\n",
    "    Result:\n",
    "        [[ 0, 10],\n",
    "        [ 1, 10],\n",
    "        [ 2, 10],\n",
    "        [ 0, 11],\n",
    "        [ 1, 11],\n",
    "        [ 2, 11]]\n",
    "    ✅ Meaning:\n",
    "    We now have an (N, 2) array where each row is a coordinate (x₁, x₂) in the grid.\n",
    "    This is exactly the format we need to pass into multivariate_gaussian so it can compute p(x) for every point in the grid.\n",
    "    multivariate_gaussian takes these points and computes p(x) (probability density) using your mu and var.\n",
    "    '''\n",
    "    Z = Z.reshape(X1.shape) #X1.shape: (71, 71)\n",
    "\n",
    "    plt.plot(X[:, 0], X[:, 1], 'bx') #'bx' → blue x markers for each data point.\n",
    "\n",
    "    if np.sum(np.isinf(Z)) == 0:\n",
    "        plt.contour(X1, X2, Z, levels=10**(np.arange(-20., 1, 3)), linewidths=1)\n",
    "    '''\n",
    "    a) np.isinf(Z): Returns a boolean array of the same shape as Z.\n",
    "    Each entry is:\n",
    "        True if that value in Z is infinite (inf or -inf)\n",
    "        False otherwise.\n",
    "    Example:\n",
    "        Z = [0.1, np.inf, 0.3]\n",
    "        np.isinf(Z) → [False, True, False]\n",
    "    b) np.sum(np.isinf(Z)) == 0\n",
    "    np.sum() here counts how many True values there are (since True is treated as 1, False as 0).\n",
    "    If the sum is 0, it means there are no infinite values in Z.\n",
    "    This acts as a safety check to avoid plotting invalid data.\n",
    "\n",
    "    c) plt.contour(...)\n",
    "    If the data is valid:\n",
    "        plt.contour(X1, X2, Z, levels=10**(np.arange(-20., 1, 3)), linewidths=1)\n",
    "    X1, X2: meshgrid coordinates (the x–y positions on the plot).\n",
    "    Z: probability values for each coordinate.\n",
    "    levels=10**(np.arange(-20., 1, 3)):\n",
    "    np.arange(-20., 1, 3) → [-20, -17, -14, …, -2, 1]\n",
    "    10**(...) turns those into probability contour levels: [1e-20, 1e-17, ..., 1e-2, 1e1]\n",
    "\n",
    "    This way, contours are drawn at logarithmically spaced probability values.\n",
    "\n",
    "    linewidths=1: makes contour lines thin.\n",
    "\n",
    "    ✅ Summary in plain English\n",
    "    This code says:\n",
    "\n",
    "    “If there are no infinite probability values in Z, plot contour lines showing where the Gaussian PDF has certain probability levels, spaced on a log scale from \n",
    "    10^(−20) up to 10^(1).”\n",
    "    '''\n",
    "    # Set the title\n",
    "    plt.title(\"The Gaussian contours of the distribution fit to the dataset\")\n",
    "    # Set the y-axis label\n",
    "    plt.ylabel('Throughput (mb/s)')\n",
    "    # Set the x-axis label\n",
    "    plt.xlabel('Latency (ms)')"
   ]
  },
  {
   "cell_type": "code",
   "execution_count": 15,
   "id": "02ed0793",
   "metadata": {},
   "outputs": [],
   "source": [
    "# Estimate mean and variance of each feature\n",
    "mu, var = estimate_gaussian(X_train)   "
   ]
  },
  {
   "cell_type": "code",
   "execution_count": 2,
   "id": "a78d3327",
   "metadata": {},
   "outputs": [
    {
     "name": "stdout",
     "output_type": "stream",
     "text": [
      "(18, 18)\n",
      "(18, 18)\n"
     ]
    }
   ],
   "source": [
    "X1, X2 = np.meshgrid(np.arange(0, 35.5, 2), np.arange(0, 35.5, 2))\n",
    "print(X1.shape) #(71, 71)\n",
    "print(X2.shape) "
   ]
  },
  {
   "cell_type": "code",
   "execution_count": 20,
   "id": "6b8146e2",
   "metadata": {},
   "outputs": [
    {
     "data": {
      "text/plain": [
       "array([ 0.,  2.,  4.,  6.,  8., 10., 12., 14., 16., 18., 20., 22., 24.,\n",
       "       26., 28., 30., 32., 34.,  0.,  2.,  4.,  6.,  8., 10., 12., 14.,\n",
       "       16., 18., 20., 22., 24., 26., 28., 30., 32., 34.])"
      ]
     },
     "execution_count": 20,
     "metadata": {},
     "output_type": "execute_result"
    }
   ],
   "source": [
    "X1[:2].ravel()"
   ]
  },
  {
   "cell_type": "code",
   "execution_count": 3,
   "id": "5735fa30",
   "metadata": {},
   "outputs": [
    {
     "data": {
      "text/plain": [
       "array([[0., 0., 0., 0., 0., 0., 0., 0., 0., 0., 0., 0., 0., 0., 0., 0.,\n",
       "        0., 0.],\n",
       "       [2., 2., 2., 2., 2., 2., 2., 2., 2., 2., 2., 2., 2., 2., 2., 2.,\n",
       "        2., 2.]])"
      ]
     },
     "execution_count": 3,
     "metadata": {},
     "output_type": "execute_result"
    }
   ],
   "source": [
    "X2[:2]"
   ]
  },
  {
   "cell_type": "code",
   "execution_count": 5,
   "id": "e6c2375a",
   "metadata": {},
   "outputs": [
    {
     "data": {
      "text/plain": [
       "array([0., 0., 0., 0., 0., 0., 0., 0., 0., 0., 0., 0., 0., 0., 0., 0., 0.,\n",
       "       0., 2., 2., 2., 2., 2., 2., 2., 2., 2., 2., 2., 2., 2., 2., 2., 2.,\n",
       "       2., 2.])"
      ]
     },
     "execution_count": 5,
     "metadata": {},
     "output_type": "execute_result"
    }
   ],
   "source": [
    "X2[:2].ravel()"
   ]
  },
  {
   "cell_type": "code",
   "execution_count": 21,
   "id": "6ee4c0c6",
   "metadata": {},
   "outputs": [
    {
     "data": {
      "text/plain": [
       "(36,)"
      ]
     },
     "execution_count": 21,
     "metadata": {},
     "output_type": "execute_result"
    }
   ],
   "source": [
    "v = X2[:2].ravel()\n",
    "v.shape"
   ]
  },
  {
   "cell_type": "code",
   "execution_count": 6,
   "id": "562c9686",
   "metadata": {},
   "outputs": [
    {
     "data": {
      "text/plain": [
       "(324,)"
      ]
     },
     "execution_count": 6,
     "metadata": {},
     "output_type": "execute_result"
    }
   ],
   "source": [
    "s = X2.ravel()\n",
    "s.shape"
   ]
  },
  {
   "cell_type": "code",
   "execution_count": 24,
   "id": "47692edc",
   "metadata": {},
   "outputs": [
    {
     "data": {
      "text/plain": [
       "array([[ 0.,  0.],\n",
       "       [ 2.,  0.],\n",
       "       [ 4.,  0.],\n",
       "       [ 6.,  0.],\n",
       "       [ 8.,  0.],\n",
       "       [10.,  0.],\n",
       "       [12.,  0.],\n",
       "       [14.,  0.],\n",
       "       [16.,  0.],\n",
       "       [18.,  0.],\n",
       "       [20.,  0.],\n",
       "       [22.,  0.],\n",
       "       [24.,  0.],\n",
       "       [26.,  0.],\n",
       "       [28.,  0.],\n",
       "       [30.,  0.],\n",
       "       [32.,  0.],\n",
       "       [34.,  0.],\n",
       "       [ 0.,  2.],\n",
       "       [ 2.,  2.],\n",
       "       [ 4.,  2.],\n",
       "       [ 6.,  2.],\n",
       "       [ 8.,  2.],\n",
       "       [10.,  2.],\n",
       "       [12.,  2.],\n",
       "       [14.,  2.],\n",
       "       [16.,  2.],\n",
       "       [18.,  2.],\n",
       "       [20.,  2.],\n",
       "       [22.,  2.],\n",
       "       [24.,  2.],\n",
       "       [26.,  2.],\n",
       "       [28.,  2.],\n",
       "       [30.,  2.],\n",
       "       [32.,  2.],\n",
       "       [34.,  2.]])"
      ]
     },
     "execution_count": 24,
     "metadata": {},
     "output_type": "execute_result"
    }
   ],
   "source": [
    "np.stack([X1[:2].ravel(), X2[:2].ravel()], axis=1) #(36, 2)"
   ]
  },
  {
   "cell_type": "code",
   "execution_count": 26,
   "id": "6b987fb3",
   "metadata": {},
   "outputs": [
    {
     "data": {
      "text/plain": [
       "array([6.14537868e-54, 1.00735665e-47, 1.86167277e-42, 3.87890294e-38,\n",
       "       9.11171149e-35, 2.41310648e-32, 7.20507477e-31, 2.42541454e-30,\n",
       "       9.20489720e-31, 3.93855928e-32, 1.89994623e-34, 1.03331019e-37,\n",
       "       6.33586035e-42, 4.37991779e-47, 3.41359348e-53, 2.99946032e-60,\n",
       "       2.97139181e-68, 3.31865573e-77, 7.93778703e-47, 1.30117003e-40,\n",
       "       2.40466255e-35, 5.01025357e-31, 1.17693033e-27, 3.11693166e-25,\n",
       "       9.30656223e-24, 3.13282958e-23, 1.18896682e-23, 5.08730974e-25,\n",
       "       2.45409914e-27, 1.33469338e-30, 8.18382606e-35, 5.65739826e-40,\n",
       "       4.40922838e-46, 3.87430596e-53, 3.83805077e-61, 4.28660036e-70,\n",
       "       9.88110223e-41, 1.61972021e-34, 2.99336784e-29, 6.23685513e-25,\n",
       "       1.46506436e-21, 3.88001344e-19, 1.15849786e-17, 3.89980346e-17,\n",
       "       1.48004761e-17, 6.33277605e-19, 3.05490742e-21, 1.66145069e-24,\n",
       "       1.01873761e-28, 7.04243264e-34, 5.48868799e-40, 4.82280680e-47,\n",
       "       4.77767568e-55, 5.33603839e-64, 1.18540430e-35, 1.94312664e-29,\n",
       "       3.59104787e-24, 7.48215606e-20, 1.75759096e-16, 4.65472829e-14,\n",
       "       1.38981291e-12, 4.67846976e-12, 1.77556588e-12, 7.59722932e-14,\n",
       "       3.66487494e-16, 1.99318937e-19, 1.22214700e-23, 8.44858169e-29,\n",
       "       6.58460382e-35, 5.78576741e-42, 5.73162504e-50, 6.40147497e-59,\n",
       "       1.37051174e-31, 2.24655662e-25, 4.15180987e-20, 8.65053612e-16,\n",
       "       2.03204851e-12, 5.38158987e-10, 1.60683989e-08, 5.40903870e-08,\n",
       "       2.05283032e-08, 8.78357872e-10, 4.23716544e-12, 2.30443692e-15,\n",
       "       1.41299201e-19, 9.76787447e-25, 7.61282614e-31, 6.68924700e-38,\n",
       "       6.62665000e-46, 7.40110070e-55, 1.52705324e-28, 2.50316102e-22,\n",
       "       4.62603458e-17, 9.63861076e-13, 2.26415153e-09, 5.99628154e-07,\n",
       "       1.79037507e-05, 6.02686560e-05, 2.28730707e-05, 9.78684964e-07,\n",
       "       4.72113957e-09, 2.56765248e-12, 1.57438566e-16, 1.08835728e-21,\n",
       "       8.48237229e-28, 7.45330084e-35, 7.38355393e-43, 8.24646332e-52,\n",
       "       1.63976175e-26, 2.68791395e-20, 4.96747225e-15, 1.03500159e-10,\n",
       "       2.43126369e-07, 6.43885418e-05, 1.92251880e-03, 6.47169559e-03,\n",
       "       2.45612828e-03, 1.05091960e-04, 5.06959673e-07, 2.75716538e-10,\n",
       "       1.69058768e-14, 1.16868659e-19, 9.10843795e-26, 8.00341294e-33,\n",
       "       7.92851817e-41, 8.85511705e-50, 1.69692436e-25, 2.78161546e-19,\n",
       "       5.14063987e-14, 1.07108207e-09, 2.51601829e-06, 6.66331463e-04,\n",
       "       1.98953840e-02, 6.69730090e-02, 2.54174967e-02, 1.08755498e-03,\n",
       "       5.24632444e-06, 2.85328102e-09, 1.74952209e-13, 1.20942737e-18,\n",
       "       9.42596092e-25, 8.28241440e-32, 8.20490877e-40, 9.16380917e-49,\n",
       "       1.69238579e-25, 2.77417580e-19, 5.12689079e-14, 1.06821737e-09,\n",
       "       2.50928899e-06, 6.64549304e-04, 1.98421722e-02, 6.67938841e-02,\n",
       "       2.53495155e-02, 1.08464622e-03, 5.23229271e-06, 2.84564968e-09,\n",
       "       1.74484285e-13, 1.20619266e-18, 9.40075039e-25, 8.26026238e-32,\n",
       "       8.18296405e-40, 9.13929979e-49, 1.62663987e-26, 2.66640443e-20,\n",
       "       4.92772099e-15, 1.02671918e-10, 2.41180796e-07, 6.38732847e-05,\n",
       "       1.90713421e-03, 6.41990707e-03, 2.43647358e-03, 1.04250981e-04,\n",
       "       5.02902824e-07, 2.73510169e-10, 1.67705907e-14, 1.15933440e-19,\n",
       "       9.03554940e-26, 7.93936714e-33, 7.86507170e-41, 8.78425565e-50,\n",
       "       1.50674102e-28, 2.46986503e-22, 4.56450102e-17, 9.51040203e-13,\n",
       "       2.23403474e-09, 5.91652154e-07, 1.76656026e-05, 5.94669878e-05,\n",
       "       2.25688227e-05, 9.65666910e-07, 4.65834097e-09, 2.53349865e-12,\n",
       "       1.55344385e-16, 1.07388042e-21, 8.36954336e-28, 7.35416018e-35,\n",
       "       7.28534102e-43, 8.13677235e-52, 1.34505786e-31, 2.20483237e-25,\n",
       "       4.07470023e-20, 8.48987374e-16, 1.99430822e-12, 5.28164011e-10,\n",
       "       1.57699680e-08, 5.30857914e-08, 2.01470406e-08, 8.62044540e-10,\n",
       "       4.15847054e-12, 2.26163769e-15, 1.38674917e-19, 9.58646028e-25,\n",
       "       7.47143666e-31, 6.56501073e-38, 6.50357632e-46, 7.26364350e-55,\n",
       "       1.15717350e-35, 1.89685043e-29, 3.50552586e-24, 7.30396601e-20,\n",
       "       1.71573334e-16, 4.54387438e-14, 1.35671405e-12, 4.56705044e-12,\n",
       "       1.73328019e-12, 7.41629876e-14, 3.57759472e-16, 1.94572090e-19,\n",
       "       1.19304116e-23, 8.24737589e-29, 6.42778927e-35, 5.64797742e-42,\n",
       "       5.59512447e-50, 6.24902170e-59, 9.59425257e-41, 1.57269953e-34,\n",
       "       2.90646999e-29, 6.05579843e-25, 1.42253335e-21, 3.76737615e-19,\n",
       "       1.12486652e-17, 3.78659167e-17, 1.43708164e-17, 6.14893475e-19,\n",
       "       2.96622307e-21, 1.61321857e-24, 9.89163527e-29, 6.83798993e-34,\n",
       "       5.32935068e-40, 4.68280011e-47, 4.63897915e-55, 5.18113252e-64,\n",
       "       7.66617928e-47, 1.25664781e-40, 2.32238206e-35, 4.83881741e-31,\n",
       "       1.13665923e-27, 3.01027941e-25, 8.98811901e-24, 3.02563336e-23,\n",
       "       1.14828387e-23, 4.91323694e-25, 2.37012708e-27, 1.28902410e-30,\n",
       "       7.90379957e-35, 5.46381871e-40, 4.25835754e-46, 3.74173859e-53,\n",
       "       3.70672395e-61, 4.13992549e-70, 5.90339647e-54, 9.67690683e-48,\n",
       "       1.78836700e-42, 3.72616614e-38, 8.75292610e-35, 2.31808730e-32,\n",
       "       6.92136567e-31, 2.32991072e-30, 8.84244250e-31, 3.78347343e-32,\n",
       "       1.82513340e-34, 9.92622273e-38, 6.08637768e-42, 4.20745288e-47,\n",
       "       3.27917884e-53, 2.88135271e-60, 2.85438943e-68, 3.18797939e-77,\n",
       "       4.38106894e-62, 7.18149225e-56, 1.32719514e-50, 2.76528789e-46,\n",
       "       6.49578136e-43, 1.72031480e-40, 5.13653120e-39, 1.72908927e-38,\n",
       "       6.56221388e-39, 2.80781717e-40, 1.35448047e-42, 7.36651627e-46,\n",
       "       4.51686421e-50, 3.12246369e-55, 2.43356661e-61, 2.13832917e-68,\n",
       "       2.11831900e-76, 2.36588505e-85, 3.13338226e-71, 5.13627169e-65,\n",
       "       9.49222615e-60, 1.97776025e-55, 4.64584473e-52, 1.23038554e-49,\n",
       "       3.67369607e-48, 1.23666112e-47, 4.69335790e-48, 2.00817760e-49,\n",
       "       9.68737343e-52, 5.26860263e-55, 3.23050433e-59, 2.23321579e-64,\n",
       "       1.74051003e-70, 1.52935340e-77, 1.51504193e-85, 1.69210354e-94])"
      ]
     },
     "execution_count": 26,
     "metadata": {},
     "output_type": "execute_result"
    }
   ],
   "source": [
    "Z = multivariate_gaussian(np.stack([X1.ravel(), X2.ravel()], axis=1), mu, var)\n",
    "Z\n",
    "# Z.shape #(324,)"
   ]
  },
  {
   "cell_type": "code",
   "execution_count": 17,
   "id": "3d28d125",
   "metadata": {},
   "outputs": [
    {
     "data": {
      "text/plain": [
       "array([[6.14537868e-54, 1.00735665e-47, 1.86167277e-42, 3.87890294e-38,\n",
       "        9.11171149e-35, 2.41310648e-32, 7.20507477e-31, 2.42541454e-30,\n",
       "        9.20489720e-31, 3.93855928e-32, 1.89994623e-34, 1.03331019e-37,\n",
       "        6.33586035e-42, 4.37991779e-47, 3.41359348e-53, 2.99946032e-60,\n",
       "        2.97139181e-68, 3.31865573e-77],\n",
       "       [7.93778703e-47, 1.30117003e-40, 2.40466255e-35, 5.01025357e-31,\n",
       "        1.17693033e-27, 3.11693166e-25, 9.30656223e-24, 3.13282958e-23,\n",
       "        1.18896682e-23, 5.08730974e-25, 2.45409914e-27, 1.33469338e-30,\n",
       "        8.18382606e-35, 5.65739826e-40, 4.40922838e-46, 3.87430596e-53,\n",
       "        3.83805077e-61, 4.28660036e-70],\n",
       "       [9.88110223e-41, 1.61972021e-34, 2.99336784e-29, 6.23685513e-25,\n",
       "        1.46506436e-21, 3.88001344e-19, 1.15849786e-17, 3.89980346e-17,\n",
       "        1.48004761e-17, 6.33277605e-19, 3.05490742e-21, 1.66145069e-24,\n",
       "        1.01873761e-28, 7.04243264e-34, 5.48868799e-40, 4.82280680e-47,\n",
       "        4.77767568e-55, 5.33603839e-64],\n",
       "       [1.18540430e-35, 1.94312664e-29, 3.59104787e-24, 7.48215606e-20,\n",
       "        1.75759096e-16, 4.65472829e-14, 1.38981291e-12, 4.67846976e-12,\n",
       "        1.77556588e-12, 7.59722932e-14, 3.66487494e-16, 1.99318937e-19,\n",
       "        1.22214700e-23, 8.44858169e-29, 6.58460382e-35, 5.78576741e-42,\n",
       "        5.73162504e-50, 6.40147497e-59],\n",
       "       [1.37051174e-31, 2.24655662e-25, 4.15180987e-20, 8.65053612e-16,\n",
       "        2.03204851e-12, 5.38158987e-10, 1.60683989e-08, 5.40903870e-08,\n",
       "        2.05283032e-08, 8.78357872e-10, 4.23716544e-12, 2.30443692e-15,\n",
       "        1.41299201e-19, 9.76787447e-25, 7.61282614e-31, 6.68924700e-38,\n",
       "        6.62665000e-46, 7.40110070e-55],\n",
       "       [1.52705324e-28, 2.50316102e-22, 4.62603458e-17, 9.63861076e-13,\n",
       "        2.26415153e-09, 5.99628154e-07, 1.79037507e-05, 6.02686560e-05,\n",
       "        2.28730707e-05, 9.78684964e-07, 4.72113957e-09, 2.56765248e-12,\n",
       "        1.57438566e-16, 1.08835728e-21, 8.48237229e-28, 7.45330084e-35,\n",
       "        7.38355393e-43, 8.24646332e-52],\n",
       "       [1.63976175e-26, 2.68791395e-20, 4.96747225e-15, 1.03500159e-10,\n",
       "        2.43126369e-07, 6.43885418e-05, 1.92251880e-03, 6.47169559e-03,\n",
       "        2.45612828e-03, 1.05091960e-04, 5.06959673e-07, 2.75716538e-10,\n",
       "        1.69058768e-14, 1.16868659e-19, 9.10843795e-26, 8.00341294e-33,\n",
       "        7.92851817e-41, 8.85511705e-50],\n",
       "       [1.69692436e-25, 2.78161546e-19, 5.14063987e-14, 1.07108207e-09,\n",
       "        2.51601829e-06, 6.66331463e-04, 1.98953840e-02, 6.69730090e-02,\n",
       "        2.54174967e-02, 1.08755498e-03, 5.24632444e-06, 2.85328102e-09,\n",
       "        1.74952209e-13, 1.20942737e-18, 9.42596092e-25, 8.28241440e-32,\n",
       "        8.20490877e-40, 9.16380917e-49],\n",
       "       [1.69238579e-25, 2.77417580e-19, 5.12689079e-14, 1.06821737e-09,\n",
       "        2.50928899e-06, 6.64549304e-04, 1.98421722e-02, 6.67938841e-02,\n",
       "        2.53495155e-02, 1.08464622e-03, 5.23229271e-06, 2.84564968e-09,\n",
       "        1.74484285e-13, 1.20619266e-18, 9.40075039e-25, 8.26026238e-32,\n",
       "        8.18296405e-40, 9.13929979e-49],\n",
       "       [1.62663987e-26, 2.66640443e-20, 4.92772099e-15, 1.02671918e-10,\n",
       "        2.41180796e-07, 6.38732847e-05, 1.90713421e-03, 6.41990707e-03,\n",
       "        2.43647358e-03, 1.04250981e-04, 5.02902824e-07, 2.73510169e-10,\n",
       "        1.67705907e-14, 1.15933440e-19, 9.03554940e-26, 7.93936714e-33,\n",
       "        7.86507170e-41, 8.78425565e-50],\n",
       "       [1.50674102e-28, 2.46986503e-22, 4.56450102e-17, 9.51040203e-13,\n",
       "        2.23403474e-09, 5.91652154e-07, 1.76656026e-05, 5.94669878e-05,\n",
       "        2.25688227e-05, 9.65666910e-07, 4.65834097e-09, 2.53349865e-12,\n",
       "        1.55344385e-16, 1.07388042e-21, 8.36954336e-28, 7.35416018e-35,\n",
       "        7.28534102e-43, 8.13677235e-52],\n",
       "       [1.34505786e-31, 2.20483237e-25, 4.07470023e-20, 8.48987374e-16,\n",
       "        1.99430822e-12, 5.28164011e-10, 1.57699680e-08, 5.30857914e-08,\n",
       "        2.01470406e-08, 8.62044540e-10, 4.15847054e-12, 2.26163769e-15,\n",
       "        1.38674917e-19, 9.58646028e-25, 7.47143666e-31, 6.56501073e-38,\n",
       "        6.50357632e-46, 7.26364350e-55],\n",
       "       [1.15717350e-35, 1.89685043e-29, 3.50552586e-24, 7.30396601e-20,\n",
       "        1.71573334e-16, 4.54387438e-14, 1.35671405e-12, 4.56705044e-12,\n",
       "        1.73328019e-12, 7.41629876e-14, 3.57759472e-16, 1.94572090e-19,\n",
       "        1.19304116e-23, 8.24737589e-29, 6.42778927e-35, 5.64797742e-42,\n",
       "        5.59512447e-50, 6.24902170e-59],\n",
       "       [9.59425257e-41, 1.57269953e-34, 2.90646999e-29, 6.05579843e-25,\n",
       "        1.42253335e-21, 3.76737615e-19, 1.12486652e-17, 3.78659167e-17,\n",
       "        1.43708164e-17, 6.14893475e-19, 2.96622307e-21, 1.61321857e-24,\n",
       "        9.89163527e-29, 6.83798993e-34, 5.32935068e-40, 4.68280011e-47,\n",
       "        4.63897915e-55, 5.18113252e-64],\n",
       "       [7.66617928e-47, 1.25664781e-40, 2.32238206e-35, 4.83881741e-31,\n",
       "        1.13665923e-27, 3.01027941e-25, 8.98811901e-24, 3.02563336e-23,\n",
       "        1.14828387e-23, 4.91323694e-25, 2.37012708e-27, 1.28902410e-30,\n",
       "        7.90379957e-35, 5.46381871e-40, 4.25835754e-46, 3.74173859e-53,\n",
       "        3.70672395e-61, 4.13992549e-70],\n",
       "       [5.90339647e-54, 9.67690683e-48, 1.78836700e-42, 3.72616614e-38,\n",
       "        8.75292610e-35, 2.31808730e-32, 6.92136567e-31, 2.32991072e-30,\n",
       "        8.84244250e-31, 3.78347343e-32, 1.82513340e-34, 9.92622273e-38,\n",
       "        6.08637768e-42, 4.20745288e-47, 3.27917884e-53, 2.88135271e-60,\n",
       "        2.85438943e-68, 3.18797939e-77],\n",
       "       [4.38106894e-62, 7.18149225e-56, 1.32719514e-50, 2.76528789e-46,\n",
       "        6.49578136e-43, 1.72031480e-40, 5.13653120e-39, 1.72908927e-38,\n",
       "        6.56221388e-39, 2.80781717e-40, 1.35448047e-42, 7.36651627e-46,\n",
       "        4.51686421e-50, 3.12246369e-55, 2.43356661e-61, 2.13832917e-68,\n",
       "        2.11831900e-76, 2.36588505e-85],\n",
       "       [3.13338226e-71, 5.13627169e-65, 9.49222615e-60, 1.97776025e-55,\n",
       "        4.64584473e-52, 1.23038554e-49, 3.67369607e-48, 1.23666112e-47,\n",
       "        4.69335790e-48, 2.00817760e-49, 9.68737343e-52, 5.26860263e-55,\n",
       "        3.23050433e-59, 2.23321579e-64, 1.74051003e-70, 1.52935340e-77,\n",
       "        1.51504193e-85, 1.69210354e-94]])"
      ]
     },
     "execution_count": 17,
     "metadata": {},
     "output_type": "execute_result"
    }
   ],
   "source": [
    "Z = Z.reshape(X1.shape)\n",
    "Z"
   ]
  },
  {
   "cell_type": "code",
   "execution_count": null,
   "id": "fdaac176",
   "metadata": {},
   "outputs": [
    {
     "data": {
      "text/plain": [
       "<matplotlib.contour.QuadContourSet at 0x11ea52a40>"
      ]
     },
     "execution_count": 18,
     "metadata": {},
     "output_type": "execute_result"
    },
    {
     "data": {
      "image/png": "[encoded data removed]",
      "text/plain": [
       "<Figure size 640x480 with 1 Axes>"
      ]
     },
     "metadata": {},
     "output_type": "display_data"
    }
   ],
   "source": [
    "plt.contour(X1, X2, Z, levels=10**(np.arange(-20., 1, 3)), linewidths=1)\n",
    "'''\n",
    "levels is now a list of probability density values.\n",
    "For each level (say 1e-8), plt.contour looks through Z (the probability density from multivariate_gaussian(...)) and finds where it’s exactly equal to that level — or more precisely, interpolates between grid points where it crosses that level.\n",
    "It then draws a smooth closed curve (often an ellipse in a Gaussian case) through those positions in (X1, X2) space.\n",
    "So each oval you see corresponds to \"all (x1, x2) pairs where p(x1, x2) = that specific level\".\n",
    "It’s like drawing “probability height” lines on a 2D map of your Gaussian.\n",
    "'''"
   ]
  }
 ],
 "metadata": {
  "kernelspec": {
   "display_name": "tf-env",
   "language": "python",
   "name": "python3"
  },
  "language_info": {
   "codemirror_mode": {
    "name": "ipython",
    "version": 3
   },
   "file_extension": ".py",
   "mimetype": "text/x-python",
   "name": "python",
   "nbconvert_exporter": "python",
   "pygments_lexer": "ipython3",
   "version": "3.10.18"
  }
 },
 "nbformat": 4,
 "nbformat_minor": 5
}
